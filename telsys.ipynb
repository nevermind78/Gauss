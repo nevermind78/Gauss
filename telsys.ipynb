{
 "cells": [
  {
   "cell_type": "markdown",
   "metadata": {
    "slideshow": {
     "slide_type": "slide"
    }
   },
   "source": [
    "## Système linéaire"
   ]
  },
  {
   "cell_type": "markdown",
   "metadata": {
    "slideshow": {
     "slide_type": "slide"
    }
   },
   "source": [
    "<p class=\"fragment fade-left\">1) On considère  : </p>\n",
    "<p class=\"fragment fade-left\">\n",
    "$$\n",
    " (S_m)\\quad \\left\\{\n",
    " \\begin{matrix}\n",
    " (1+m)x_1 & + & x_2 & + & x_3 & = & 1 \\\\\n",
    " x_1 & + & (1+m)x_2 & + & x_3 & = & 0 \\\\\n",
    " x_1 & + &x_2  & + & (1+m)x_3 & = & 1\n",
    " \\end{matrix}\n",
    " \\right.\n",
    " $$ </p>\n",
    " <p class=\"fragment fade-left\"> <span class=\"fragment\">Avec </span> <span class=\"fragment\">$$m\\in \\mathbb{R}$$ </span></p>"
   ]
  },
  {
   "cell_type": "markdown",
   "metadata": {
    "slideshow": {
     "slide_type": "subslide"
    }
   },
   "source": [
    "$$\n",
    "  A_m = \n",
    "  \\begin{pmatrix}\n",
    "  1+m & 1 & 1 \\\\\n",
    "  1 & 1+m & 1 \\\\\n",
    "  1 & 1 & 1+m\n",
    "  \\end{pmatrix} \\,,\n",
    "  \\qquad b =\n",
    "  \\begin{pmatrix}\n",
    "  1 \\\\ 0 \\\\ 1 \n",
    "  \\end{pmatrix} \\,.\n",
    "$$"
   ]
  },
  {
   "cell_type": "code",
   "execution_count": null,
   "metadata": {
    "slideshow": {
     "slide_type": "slide"
    }
   },
   "outputs": [],
   "source": [
    "from __future__ import division\n",
    "from sympy import *\n",
    "x, y, z, t = symbols('x y z t')\n",
    "k, m, n = symbols('k m n', integer=True)\n",
    "f, g, h = symbols('f g h', cls=Function)\n",
    "init_printing() # doctest: +SKIP\n",
    "from fractions import Fraction\n",
    "from IPython.display import display, Latex"
   ]
  },
  {
   "cell_type": "code",
   "execution_count": null,
   "metadata": {
    "slideshow": {
     "slide_type": "subslide"
    }
   },
   "outputs": [],
   "source": [
    "m = Symbol('m')"
   ]
  },
  {
   "cell_type": "code",
   "execution_count": null,
   "metadata": {
    "slideshow": {
     "slide_type": "subslide"
    }
   },
   "outputs": [],
   "source": [
    "from module import gg ,indices,wid"
   ]
  },
  {
   "cell_type": "code",
   "execution_count": null,
   "metadata": {},
   "outputs": [],
   "source": [
    "import ipywidgets as widgets\n",
    "import numpy as np\n",
    "from ipywidgets import interact ,Layout"
   ]
  },
  {
   "cell_type": "code",
   "execution_count": null,
   "metadata": {},
   "outputs": [],
   "source": []
  },
  {
   "cell_type": "code",
   "execution_count": null,
   "metadata": {},
   "outputs": [],
   "source": [
    "from IPython.display import display\n",
    "button1 = widgets.Button(description=\"Edit Matrix\")\n",
    "button2 = widgets.Button(description=\"Show Matrix\")\n",
    "button3 = widgets.Button(description=\"Solve\")\n",
    "items = [widgets.Text(\n",
    "    value='3',\n",
    "    placeholder='n',\n",
    "    description='n',\n",
    "    layout=Layout(width='75%', height='75%'),\n",
    "    disabled=False\n",
    ") ,widgets.Text(\n",
    "    value='3',\n",
    "    placeholder='m',\n",
    "    description='m',\n",
    "    layout=Layout(width='75%', height='75%'),\n",
    "    disabled=False\n",
    ")]\n",
    "nm=widgets.GridBox(items, layout=widgets.Layout(grid_template_columns=\"repeat({}, 200px)\".format(2)))\n",
    "output1 = widgets.Output()\n",
    "output2 = widgets.Output()\n",
    "display(nm,button1, output1,button2,button3,output2)\n",
    "\n",
    "def on_button1_clicked(b):\n",
    "    global n,m\n",
    "    global A,M\n",
    "    n,m =int(nm.children[0].value),int(nm.children[1].value)\n",
    "    output1.clear_output()\n",
    "    A=wid(n,m)\n",
    "    with output1:\n",
    "        display(A)\n",
    "def on_button2_clicked(b):\n",
    "    global M,A\n",
    "    global n,m\n",
    "    n,m =int(nm.children[0].value),int(nm.children[1].value)\n",
    "    M=Matrix([A.children[i].value for i in range(len(A.children)) ]).reshape(n,m)\n",
    "    output1.clear_output()\n",
    "    with output1:\n",
    "        display(M)\n",
    "def on_button3_clicked(b):\n",
    "    global M,A\n",
    "    global n,m\n",
    "    n,m =int(nm.children[0].value),int(nm.children[1].value)\n",
    "    M=Matrix([A.children[i].value for i in range(len(A.children)) ]).reshape(n,m)\n",
    "    output2.clear_output()\n",
    "    with output2:\n",
    "        gg(M)\n",
    "\n",
    "button1.on_click(on_button1_clicked)\n",
    "button2.on_click(on_button2_clicked)\n",
    "button3.on_click(on_button3_clicked)"
   ]
  },
  {
   "cell_type": "code",
   "execution_count": null,
   "metadata": {},
   "outputs": [],
   "source": []
  }
 ],
 "metadata": {
  "celltoolbar": "Diaporama",
  "kernelspec": {
   "display_name": "Python 3 (ipykernel)",
   "language": "python",
   "name": "python3"
  },
  "language_info": {
   "codemirror_mode": {
    "name": "ipython",
    "version": 3
   },
   "file_extension": ".py",
   "mimetype": "text/x-python",
   "name": "python",
   "nbconvert_exporter": "python",
   "pygments_lexer": "ipython3",
   "version": "3.7.12"
  },
  "rise": {
   "scroll": true
  }
 },
 "nbformat": 4,
 "nbformat_minor": 2
}
