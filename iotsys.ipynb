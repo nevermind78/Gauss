{
 "cells": [
  {
   "cell_type": "markdown",
   "metadata": {},
   "source": [
    "## Système linéaire"
   ]
  },
  {
   "cell_type": "markdown",
   "metadata": {},
   "source": [
    "<p class=\"fragment fade-left\">1) On considère  : </p>\n",
    "<p class=\"fragment fade-left\">\n",
    "$$\n",
    " (S_m)\\quad \\left\\{\n",
    " \\begin{matrix}\n",
    " (1+m)x_1 & + & x_2 & + & x_3 & = & 1 \\\\\n",
    " x_1 & + & (1+m)x_2 & + & x_3 & = & 0 \\\\\n",
    " x_1 & + &x_2  & + & (1+m)x_3 & = & 1\n",
    " \\end{matrix}\n",
    " \\right.\n",
    " $$ </p>\n",
    " <p class=\"fragment fade-left\"> <span class=\"fragment\">Avec </span> <span class=\"fragment\">$$m\\in \\mathbb{R}$$ </span></p>"
   ]
  },
  {
   "cell_type": "markdown",
   "metadata": {},
   "source": [
    "$$\n",
    "  A_m = \n",
    "  \\begin{pmatrix}\n",
    "  1+m & 1 & 1 \\\\\n",
    "  1 & 1+m & 1 \\\\\n",
    "  1 & 1 & 1+m\n",
    "  \\end{pmatrix} \\,,\n",
    "  \\qquad b =\n",
    "  \\begin{pmatrix}\n",
    "  1 \\\\ 0 \\\\ 1 \n",
    "  \\end{pmatrix} \\,.\n",
    "$$"
   ]
  },
  {
   "cell_type": "code",
   "execution_count": null,
   "metadata": {},
   "outputs": [],
   "source": []
  }
 ],
 "metadata": {
  "kernelspec": {
   "display_name": "Python 3",
   "language": "python",
   "name": "python3"
  },
  "language_info": {
   "codemirror_mode": {
    "name": "ipython",
    "version": 3
   },
   "file_extension": ".py",
   "mimetype": "text/x-python",
   "name": "python",
   "nbconvert_exporter": "python",
   "pygments_lexer": "ipython3",
   "version": "3.7.4"
  }
 },
 "nbformat": 4,
 "nbformat_minor": 2
}
