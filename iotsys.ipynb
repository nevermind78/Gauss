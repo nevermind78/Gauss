{
 "cells": [
  {
   "cell_type": "markdown",
   "metadata": {
    "slideshow": {
     "slide_type": "slide"
    }
   },
   "source": [
    "## Système linéaire"
   ]
  },
  {
   "cell_type": "markdown",
   "metadata": {
    "slideshow": {
     "slide_type": "slide"
    }
   },
   "source": [
    "<p class=\"fragment fade-left\">1) On considère  : </p>\n",
    "<p class=\"fragment fade-left\">\n",
    "$$\n",
    " (S_m)\\quad \\left\\{\n",
    " \\begin{matrix}\n",
    " (1+m)x_1 & + & x_2 & + & x_3 & = & 1 \\\\\n",
    " x_1 & + & (1+m)x_2 & + & x_3 & = & 0 \\\\\n",
    " x_1 & + &x_2  & + & (1+m)x_3 & = & 1\n",
    " \\end{matrix}\n",
    " \\right.\n",
    " $$ </p>\n",
    " <p class=\"fragment fade-left\"> <span class=\"fragment\">Avec </span> <span class=\"fragment\">$$m\\in \\mathbb{R}$$ </span></p>"
   ]
  },
  {
   "cell_type": "markdown",
   "metadata": {
    "slideshow": {
     "slide_type": "subslide"
    }
   },
   "source": [
    "$$\n",
    "  A_m = \n",
    "  \\begin{pmatrix}\n",
    "  1+m & 1 & 1 \\\\\n",
    "  1 & 1+m & 1 \\\\\n",
    "  1 & 1 & 1+m\n",
    "  \\end{pmatrix} \\,,\n",
    "  \\qquad b =\n",
    "  \\begin{pmatrix}\n",
    "  1 \\\\ 0 \\\\ 1 \n",
    "  \\end{pmatrix} \\,.\n",
    "$$"
   ]
  },
  {
   "cell_type": "code",
   "execution_count": 14,
   "metadata": {
    "slideshow": {
     "slide_type": "slide"
    }
   },
   "outputs": [],
   "source": [
    "from __future__ import division\n",
    "from sympy import *\n",
    "x, y, z, t = symbols('x y z t')\n",
    "k, m, n = symbols('k m n', integer=True)\n",
    "f, g, h = symbols('f g h', cls=Function)\n",
    "init_printing() # doctest: +SKIP\n",
    "from fractions import Fraction\n",
    "from IPython.display import display, Latex"
   ]
  },
  {
   "cell_type": "code",
   "execution_count": 15,
   "metadata": {
    "slideshow": {
     "slide_type": "subslide"
    }
   },
   "outputs": [],
   "source": [
    "m = Symbol('m')\n",
    "def conv(x):\n",
    "    if isinstance(m,Symbol):\n",
    "        return x\n",
    "    else:\n",
    "        return Fraction(x,1)"
   ]
  },
  {
   "cell_type": "code",
   "execution_count": 27,
   "metadata": {
    "slideshow": {
     "slide_type": "subslide"
    }
   },
   "outputs": [],
   "source": [
    "def enonceAB():\n",
    "    n = int(input((\"Enter la dimension n : \")))\n",
    "    A = [[0 for j in range(n+1)] for i in range(n)]\n",
    "    # Read input data    \n",
    "    for i in range(0, n):        \n",
    "        line = map(conv, input(\"Saisir la ligne {} : \".format(i)).split(\" \"))\n",
    "        for j, el in enumerate(line):\n",
    "            A[i][j] = el   \n",
    "    lastLine = map(conv, input(\"Donner le vecteur b (transposé) : \").split(\" \"))\n",
    "    for j, el in enumerate(lastLine):\n",
    "        A[j][n]=el\n",
    "    #Print input\n",
    "    pprintAB(A)       \n",
    "    return A\n",
    "def pprintAB(A):\n",
    "    n = len(A)\n",
    "    for i in range(0, n):\n",
    "        line = \"\"\n",
    "        for j in range(0, n+1):\n",
    "            line += str(A[i][j]) + \"\\t\"\n",
    "            if j == n-1:\n",
    "                line += \"| \"\n",
    "        print(line)\n",
    "    print(\"\")"
   ]
  },
  {
   "cell_type": "code",
   "execution_count": 23,
   "metadata": {
    "slideshow": {
     "slide_type": "subslide"
    }
   },
   "outputs": [],
   "source": [
    "def enonceA():\n",
    "    global n \n",
    "    n = int(input((\"Enter la dimension n : \")))\n",
    "    A = [[0 for j in range(n)] for i in range(n)]\n",
    "    # Read input data    \n",
    "    for i in range(0, n):        \n",
    "        line = map(conv, input(\"Saisir la ligne {} : \".format(i)).split(\" \"))\n",
    "        for j, el in enumerate(line):\n",
    "            A[i][j] = el   \n",
    "    #lastLine = map(Fraction, input(\"Donner le vecteur b (transposé) : \").split(\" \"))       \n",
    "    return A\n",
    "def pprintA(A):\n",
    "    n,m = A.rows,A.cols\n",
    "    for i in range(0, n):\n",
    "        line = \"\"\n",
    "        for j in range(0, m):\n",
    "            line += str(A.row(i)[j]) + \"\\t\"\n",
    "            if j == n-1:\n",
    "                line += \"| \"+ \"\\t\"\n",
    "        print(line)\n",
    "    print(\"\")"
   ]
  },
  {
   "cell_type": "code",
   "execution_count": 46,
   "metadata": {
    "slideshow": {
     "slide_type": "subslide"
    }
   },
   "outputs": [],
   "source": [
    "def gg(A):\n",
    "    B=Matrix(A).col_insert(len(A),eye(len(A)))\n",
    "    #pprint(B)\n",
    "    display(Latex(f'$A={latex(B[:,:n])}\\quad I_{n}={latex(B[:,n:-1])}\\quad b={latex(B[:,-1])} $'))\n",
    "    print('===================================================')   \n",
    "    for i in range(len(A)):\n",
    "        if B.row(i)[i]==0 or isinstance(B.row(i)[i],Mul) or isinstance(B.row(i)[i],Add) or isinstance(B.row(i)[i],Symbol):\n",
    "        #if B.row(i)[i]==0:\n",
    "            for k in range(i+1, len(A)):\n",
    "                \n",
    "                if B.row(k)[i] !=0 and not(isinstance(B.row(k)[i],Mul) or isinstance(B.row(k)[i],Add) or isinstance(B.row(k)[i],Symbol)):\n",
    "                    B=B.elementary_row_op('n<->m',row1=k, row2=i)\n",
    "                    print(' -------- Permutation L{} <--> L{} --------'.format(k+1,i+1))\n",
    "                    display(Latex(\"$L_{} \\leftrightarrow L_{}$\".format(k+1,i+1)))\n",
    "                    #print(\"L{} <--> L{} \".format(k+1,i+1))\n",
    "                    display(Latex(f'${latex(B[:,:n])}\\quad {latex(B[:,n:-1])}\\quad {latex(B[:,-1])} $'))\n",
    "                    break;\n",
    "            else:\n",
    "                if B.row(i)[i]==0:\n",
    "                    print('La matrice n''est pas inversible')\n",
    "                    return None\n",
    "        else :\n",
    "            print(' --------------- Pas de permutation ---------------')\n",
    "        if B.row(i)[i]!=1:\n",
    "            #print(\"L{} <-- ({})*L{}\".format(i+1,simplify(1/B.row(i)[i]),i+1))\n",
    "            display(Latex(\"$L_{} \\leftarrow ({})L_{}$\".format(i+1,latex(simplify(1/B.row(i)[i])),i+1)))\n",
    "            simplify(B.zip_row_op(i, i, lambda v, u: simplify(1/B.row(i)[i]*u)));\n",
    "            display(Latex(f'${latex(B[:,:n])}\\quad {latex(B[:,n:-1])}\\quad {latex(B[:,-1])} $'))   \n",
    "        for j in range(len(A)):\n",
    "            if j!=i and (B.row(j)[i]!=0):\n",
    "                #print(\"L{} <-- L{} +({})*L{}\".format(j+1,j+1,simplify(-B.row(j)[i]/B.row(i)[i]),i+1))\n",
    "                display(Latex(\"$L_{} \\leftarrow L_{}+({})L_{}$\".format(j+1,j+1,latex(simplify(-B.row(j)[i]/B.row(i)[i])),i+1)))\n",
    "                simplify(B.zip_row_op(j, i, lambda v, u: simplify(v -B.row(j)[i]/B.row(i)[i] *u)));\n",
    "                display(Latex(f'${latex(B[:,:n])}\\quad {latex(B[:,n:-1])} \\quad {latex(B[:,-1])}$'))                \n",
    "        print('===================================================')\n",
    "    return B[:,n:]    "
   ]
  },
  {
   "cell_type": "code",
   "execution_count": 51,
   "metadata": {
    "slideshow": {
     "slide_type": "slide"
    }
   },
   "outputs": [
    {
     "name": "stdout",
     "output_type": "stream",
     "text": [
      "Enter la dimension n : 3\n",
      "Saisir la ligne 0 : m 1 2\n",
      "Saisir la ligne 1 : m 2 1\n",
      "Saisir la ligne 2 : m 5 6\n",
      "Donner le vecteur b (transposé) : 1 1 1\n",
      "m\t1\t2\t| 1\t\n",
      "m\t2\t1\t| 1\t\n",
      "m\t5\t6\t| 1\t\n",
      "\n"
     ]
    }
   ],
   "source": [
    "A=enonceAB()\n"
   ]
  },
  {
   "cell_type": "code",
   "execution_count": 52,
   "metadata": {
    "slideshow": {
     "slide_type": "slide"
    }
   },
   "outputs": [
    {
     "data": {
      "text/latex": [
       "$A=\\left[\\begin{matrix}m & 1 & 2\\\\m & 2 & 1\\\\m & 5 & 6\\end{matrix}\\right]\\quad I_3=\\left[\\begin{matrix}1 & 0 & 0\\\\0 & 1 & 0\\\\0 & 0 & 1\\end{matrix}\\right]\\quad b=\\left[\\begin{matrix}1\\\\1\\\\1\\end{matrix}\\right] $"
      ],
      "text/plain": [
       "<IPython.core.display.Latex object>"
      ]
     },
     "metadata": {},
     "output_type": "display_data"
    },
    {
     "name": "stdout",
     "output_type": "stream",
     "text": [
      "===================================================\n"
     ]
    },
    {
     "data": {
      "text/latex": [
       "$L_1 \\leftarrow (\\frac{1}{m})L_1$"
      ],
      "text/plain": [
       "<IPython.core.display.Latex object>"
      ]
     },
     "metadata": {},
     "output_type": "display_data"
    },
    {
     "data": {
      "text/latex": [
       "$\\left[\\begin{matrix}1 & \\frac{1}{m} & \\frac{2}{m}\\\\m & 2 & 1\\\\m & 5 & 6\\end{matrix}\\right]\\quad \\left[\\begin{matrix}\\frac{1}{m} & 0 & 0\\\\0 & 1 & 0\\\\0 & 0 & 1\\end{matrix}\\right]\\quad \\left[\\begin{matrix}\\frac{1}{m}\\\\1\\\\1\\end{matrix}\\right] $"
      ],
      "text/plain": [
       "<IPython.core.display.Latex object>"
      ]
     },
     "metadata": {},
     "output_type": "display_data"
    },
    {
     "data": {
      "text/latex": [
       "$L_2 \\leftarrow L_2+(- m)L_1$"
      ],
      "text/plain": [
       "<IPython.core.display.Latex object>"
      ]
     },
     "metadata": {},
     "output_type": "display_data"
    },
    {
     "data": {
      "text/latex": [
       "$\\left[\\begin{matrix}1 & \\frac{1}{m} & \\frac{2}{m}\\\\0 & 1 & -1\\\\m & 5 & 6\\end{matrix}\\right]\\quad \\left[\\begin{matrix}\\frac{1}{m} & 0 & 0\\\\-1 & 1 & 0\\\\0 & 0 & 1\\end{matrix}\\right] \\quad \\left[\\begin{matrix}\\frac{1}{m}\\\\0\\\\1\\end{matrix}\\right]$"
      ],
      "text/plain": [
       "<IPython.core.display.Latex object>"
      ]
     },
     "metadata": {},
     "output_type": "display_data"
    },
    {
     "data": {
      "text/latex": [
       "$L_3 \\leftarrow L_3+(- m)L_1$"
      ],
      "text/plain": [
       "<IPython.core.display.Latex object>"
      ]
     },
     "metadata": {},
     "output_type": "display_data"
    },
    {
     "data": {
      "text/latex": [
       "$\\left[\\begin{matrix}1 & \\frac{1}{m} & \\frac{2}{m}\\\\0 & 1 & -1\\\\0 & 4 & 4\\end{matrix}\\right]\\quad \\left[\\begin{matrix}\\frac{1}{m} & 0 & 0\\\\-1 & 1 & 0\\\\-1 & 0 & 1\\end{matrix}\\right] \\quad \\left[\\begin{matrix}\\frac{1}{m}\\\\0\\\\0\\end{matrix}\\right]$"
      ],
      "text/plain": [
       "<IPython.core.display.Latex object>"
      ]
     },
     "metadata": {},
     "output_type": "display_data"
    },
    {
     "name": "stdout",
     "output_type": "stream",
     "text": [
      "===================================================\n",
      " --------------- Pas de permutation ---------------\n"
     ]
    },
    {
     "data": {
      "text/latex": [
       "$L_1 \\leftarrow L_1+(- \\frac{1}{m})L_2$"
      ],
      "text/plain": [
       "<IPython.core.display.Latex object>"
      ]
     },
     "metadata": {},
     "output_type": "display_data"
    },
    {
     "data": {
      "text/latex": [
       "$\\left[\\begin{matrix}1 & 0 & \\frac{3}{m}\\\\0 & 1 & -1\\\\0 & 4 & 4\\end{matrix}\\right]\\quad \\left[\\begin{matrix}\\frac{2}{m} & - \\frac{1}{m} & 0\\\\-1 & 1 & 0\\\\-1 & 0 & 1\\end{matrix}\\right] \\quad \\left[\\begin{matrix}\\frac{1}{m}\\\\0\\\\0\\end{matrix}\\right]$"
      ],
      "text/plain": [
       "<IPython.core.display.Latex object>"
      ]
     },
     "metadata": {},
     "output_type": "display_data"
    },
    {
     "data": {
      "text/latex": [
       "$L_3 \\leftarrow L_3+(-4)L_2$"
      ],
      "text/plain": [
       "<IPython.core.display.Latex object>"
      ]
     },
     "metadata": {},
     "output_type": "display_data"
    },
    {
     "data": {
      "text/latex": [
       "$\\left[\\begin{matrix}1 & 0 & \\frac{3}{m}\\\\0 & 1 & -1\\\\0 & 0 & 8\\end{matrix}\\right]\\quad \\left[\\begin{matrix}\\frac{2}{m} & - \\frac{1}{m} & 0\\\\-1 & 1 & 0\\\\3 & -4 & 1\\end{matrix}\\right] \\quad \\left[\\begin{matrix}\\frac{1}{m}\\\\0\\\\0\\end{matrix}\\right]$"
      ],
      "text/plain": [
       "<IPython.core.display.Latex object>"
      ]
     },
     "metadata": {},
     "output_type": "display_data"
    },
    {
     "name": "stdout",
     "output_type": "stream",
     "text": [
      "===================================================\n",
      " --------------- Pas de permutation ---------------\n"
     ]
    },
    {
     "data": {
      "text/latex": [
       "$L_3 \\leftarrow (\\frac{1}{8})L_3$"
      ],
      "text/plain": [
       "<IPython.core.display.Latex object>"
      ]
     },
     "metadata": {},
     "output_type": "display_data"
    },
    {
     "data": {
      "text/latex": [
       "$\\left[\\begin{matrix}1 & 0 & \\frac{3}{m}\\\\0 & 1 & -1\\\\0 & 0 & 1\\end{matrix}\\right]\\quad \\left[\\begin{matrix}\\frac{2}{m} & - \\frac{1}{m} & 0\\\\-1 & 1 & 0\\\\\\frac{3}{8} & - \\frac{1}{2} & \\frac{1}{8}\\end{matrix}\\right]\\quad \\left[\\begin{matrix}\\frac{1}{m}\\\\0\\\\0\\end{matrix}\\right] $"
      ],
      "text/plain": [
       "<IPython.core.display.Latex object>"
      ]
     },
     "metadata": {},
     "output_type": "display_data"
    },
    {
     "data": {
      "text/latex": [
       "$L_1 \\leftarrow L_1+(- \\frac{3}{m})L_3$"
      ],
      "text/plain": [
       "<IPython.core.display.Latex object>"
      ]
     },
     "metadata": {},
     "output_type": "display_data"
    },
    {
     "data": {
      "text/latex": [
       "$\\left[\\begin{matrix}1 & 0 & 0\\\\0 & 1 & -1\\\\0 & 0 & 1\\end{matrix}\\right]\\quad \\left[\\begin{matrix}\\frac{7}{8 m} & \\frac{1}{2 m} & - \\frac{3}{8 m}\\\\-1 & 1 & 0\\\\\\frac{3}{8} & - \\frac{1}{2} & \\frac{1}{8}\\end{matrix}\\right] \\quad \\left[\\begin{matrix}\\frac{1}{m}\\\\0\\\\0\\end{matrix}\\right]$"
      ],
      "text/plain": [
       "<IPython.core.display.Latex object>"
      ]
     },
     "metadata": {},
     "output_type": "display_data"
    },
    {
     "data": {
      "text/latex": [
       "$L_2 \\leftarrow L_2+(1)L_3$"
      ],
      "text/plain": [
       "<IPython.core.display.Latex object>"
      ]
     },
     "metadata": {},
     "output_type": "display_data"
    },
    {
     "data": {
      "text/latex": [
       "$\\left[\\begin{matrix}1 & 0 & 0\\\\0 & 1 & 0\\\\0 & 0 & 1\\end{matrix}\\right]\\quad \\left[\\begin{matrix}\\frac{7}{8 m} & \\frac{1}{2 m} & - \\frac{3}{8 m}\\\\- \\frac{5}{8} & \\frac{1}{2} & \\frac{1}{8}\\\\\\frac{3}{8} & - \\frac{1}{2} & \\frac{1}{8}\\end{matrix}\\right] \\quad \\left[\\begin{matrix}\\frac{1}{m}\\\\0\\\\0\\end{matrix}\\right]$"
      ],
      "text/plain": [
       "<IPython.core.display.Latex object>"
      ]
     },
     "metadata": {},
     "output_type": "display_data"
    },
    {
     "name": "stdout",
     "output_type": "stream",
     "text": [
      "===================================================\n"
     ]
    },
    {
     "data": {
      "image/png": "[encoded data removed]",
      "text/latex": [
       "$\\displaystyle \\left[\\begin{matrix}\\frac{7}{8 m} & \\frac{1}{2 m} & - \\frac{3}{8 m} & \\frac{1}{m}\\\\- \\frac{5}{8} & \\frac{1}{2} & \\frac{1}{8} & 0\\\\\\frac{3}{8} & - \\frac{1}{2} & \\frac{1}{8} & 0\\end{matrix}\\right]$"
      ],
      "text/plain": [
       "⎡ 7     1    -3   1⎤\n",
       "⎢───   ───   ───  ─⎥\n",
       "⎢8⋅m   2⋅m   8⋅m  m⎥\n",
       "⎢                  ⎥\n",
       "⎢-5/8  1/2   1/8  0⎥\n",
       "⎢                  ⎥\n",
       "⎣3/8   -1/2  1/8  0⎦"
      ]
     },
     "execution_count": 52,
     "metadata": {},
     "output_type": "execute_result"
    }
   ],
   "source": [
    "gg(A)"
   ]
  }
 ],
 "metadata": {
  "celltoolbar": "Diaporama",
  "kernelspec": {
   "display_name": "Python 3",
   "language": "python",
   "name": "python3"
  },
  "language_info": {
   "codemirror_mode": {
    "name": "ipython",
    "version": 3
   },
   "file_extension": ".py",
   "mimetype": "text/x-python",
   "name": "python",
   "nbconvert_exporter": "python",
   "pygments_lexer": "ipython3",
   "version": "3.7.4"
  },
  "rise": {
   "scroll": true
  }
 },
 "nbformat": 4,
 "nbformat_minor": 2
}
